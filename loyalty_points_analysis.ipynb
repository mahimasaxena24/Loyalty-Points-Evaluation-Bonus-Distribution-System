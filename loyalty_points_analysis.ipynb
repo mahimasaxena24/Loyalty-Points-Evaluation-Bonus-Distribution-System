{
 "cells": [
  {
   "cell_type": "code",
   "execution_count": 47,
   "id": "e1e221fd",
   "metadata": {},
   "outputs": [
    {
     "data": {
      "text/plain": [
       "(   User Id         Datetime  Amount\n",
       " 0      357  01-10-2022 0:03    2000\n",
       " 1      776  01-10-2022 0:03    2500\n",
       " 2      492  01-10-2022 0:06    5000\n",
       " 3      803  01-10-2022 0:07    5000\n",
       " 4      875  01-10-2022 0:09    1500,\n",
       "    User ID  Games Played         Datetime\n",
       " 0      851             1  01-10-2022 0:00\n",
       " 1      717             1  01-10-2022 0:00\n",
       " 2      456             1  01-10-2022 0:00\n",
       " 3      424             1  01-10-2022 0:00\n",
       " 4      845             1  01-10-2022 0:00,\n",
       "    User Id         Datetime  Amount\n",
       " 0      190  01-10-2022 0:03    5872\n",
       " 1      159  01-10-2022 0:16    9540\n",
       " 2      164  01-10-2022 0:24     815\n",
       " 3      946  01-10-2022 0:29   23000\n",
       " 4      763  01-10-2022 0:40    9473)"
      ]
     },
     "execution_count": 47,
     "metadata": {},
     "output_type": "execute_result"
    }
   ],
   "source": [
    "import pandas as pd\n",
    "\n",
    "# Importing the dataset\n",
    "deposit_df = pd.read_csv(\"Deposit Data.csv\")\n",
    "gameplay_df = pd.read_csv(\"User Gameplay data.csv\")\n",
    "withdrawal_df = pd.read_csv(\"Withdrawal Data.csv\")\n",
    "\n",
    "# Displaying the first five rows\n",
    "deposit_df.head(), gameplay_df.head(), withdrawal_df.head()\n"
   ]
  },
  {
   "cell_type": "code",
   "execution_count": 48,
   "id": "63e9683c",
   "metadata": {},
   "outputs": [
    {
     "name": "stdout",
     "output_type": "stream",
     "text": [
      "Empty DataFrame\n",
      "Columns: [User ID, Date, Slot, Loyalty Points]\n",
      "Index: []\n"
     ]
    }
   ],
   "source": [
    "slot_points = gameplay_df.copy()\n",
    "\n",
    "# Proper datetime format\n",
    "slot_points['Datetime'] = pd.to_datetime(slot_points['Datetime'], errors='coerce')\n",
    "slot_points = slot_points.dropna(subset=['Datetime']) \n",
    "\n",
    "# Adding Slot and Date\n",
    "slot_points['Slot'] = slot_points['Datetime'].apply(lambda dt: 'S1' if dt.hour < 12 else 'S2')\n",
    "slot_points['Date'] = slot_points['Datetime'].dt.date\n",
    "\n",
    "# Calculate Loyalty Points\n",
    "slot_points['Loyalty Points'] = slot_points['Games Played'] * 10\n",
    "\n",
    "# Filter for target dates and slots\n",
    "target_dates = [('2022-10-02', 'S1'), ('2022-10-16', 'S2'), ('2022-10-18', 'S1'), ('2022-10-26', 'S2')]\n",
    "target_dates = [(pd.to_datetime(d).date(), s) for d, s in target_dates]\n",
    "\n",
    "filtered = slot_points[\n",
    "    slot_points[['Date', 'Slot']].apply(tuple, axis=1).isin(target_dates)\n",
    "]\n",
    "\n",
    "# Group by User ID\n",
    "result = filtered.groupby(['User ID', 'Date', 'Slot'])['Loyalty Points'].sum().reset_index()\n",
    "print(result.sort_values(by=['Date', 'Slot', 'Loyalty Points'], ascending=[True, True, False]))\n"
   ]
  },
  {
   "cell_type": "code",
   "execution_count": null,
   "id": "0d65f00b",
   "metadata": {},
   "outputs": [
    {
     "data": {
      "text/html": [
       "<div>\n",
       "<style scoped>\n",
       "    .dataframe tbody tr th:only-of-type {\n",
       "        vertical-align: middle;\n",
       "    }\n",
       "\n",
       "    .dataframe tbody tr th {\n",
       "        vertical-align: top;\n",
       "    }\n",
       "\n",
       "    .dataframe thead th {\n",
       "        text-align: right;\n",
       "    }\n",
       "</style>\n",
       "<table border=\"1\" class=\"dataframe\">\n",
       "  <thead>\n",
       "    <tr style=\"text-align: right;\">\n",
       "      <th></th>\n",
       "      <th>User ID</th>\n",
       "      <th>Total_Games</th>\n",
       "      <th>Loyalty_Points</th>\n",
       "    </tr>\n",
       "  </thead>\n",
       "  <tbody>\n",
       "    <tr>\n",
       "      <th>0</th>\n",
       "      <td>765</td>\n",
       "      <td>771</td>\n",
       "      <td>7710</td>\n",
       "    </tr>\n",
       "    <tr>\n",
       "      <th>1</th>\n",
       "      <td>618</td>\n",
       "      <td>224</td>\n",
       "      <td>2240</td>\n",
       "    </tr>\n",
       "    <tr>\n",
       "      <th>2</th>\n",
       "      <td>247</td>\n",
       "      <td>214</td>\n",
       "      <td>2140</td>\n",
       "    </tr>\n",
       "    <tr>\n",
       "      <th>3</th>\n",
       "      <td>663</td>\n",
       "      <td>205</td>\n",
       "      <td>2050</td>\n",
       "    </tr>\n",
       "    <tr>\n",
       "      <th>4</th>\n",
       "      <td>449</td>\n",
       "      <td>197</td>\n",
       "      <td>1970</td>\n",
       "    </tr>\n",
       "  </tbody>\n",
       "</table>\n",
       "</div>"
      ],
      "text/plain": [
       "   User ID  Total_Games  Loyalty_Points\n",
       "0      765          771            7710\n",
       "1      618          224            2240\n",
       "2      247          214            2140\n",
       "3      663          205            2050\n",
       "4      449          197            1970"
      ]
     },
     "execution_count": 26,
     "metadata": {},
     "output_type": "execute_result"
    }
   ],
   "source": [
    "# datetime\n",
    "gameplay_df['Datetime'] = pd.to_datetime(gameplay_df['Datetime'], errors='coerce')\n",
    "gameplay_df = gameplay_df.dropna(subset=['Datetime'])\n",
    "\n",
    "# Filter October data\n",
    "october_data = gameplay_df[gameplay_df['Datetime'].dt.month == 10]\n",
    "\n",
    "# Group and calculate\n",
    "ranking = october_data.groupby('User ID').agg(\n",
    "    Total_Games=('Games Played', 'sum')\n",
    ").assign(\n",
    "    Loyalty_Points=lambda x: x['Total_Games'] * 10\n",
    ").sort_values(by=['Loyalty_Points', 'Total_Games'], ascending=False).reset_index()\n",
    "\n",
    "# View top 5\n",
    "ranking.head()\n"
   ]
  },
  {
   "cell_type": "code",
   "execution_count": 28,
   "id": "bcd6c23a",
   "metadata": {},
   "outputs": [
    {
     "name": "stdout",
     "output_type": "stream",
     "text": [
      "5492.185399701801\n"
     ]
    }
   ],
   "source": [
    "# Average Deposit Amount\n",
    "avg_deposit = deposit_df['Amount'].mean()\n",
    "print(avg_deposit)"
   ]
  },
  {
   "cell_type": "code",
   "execution_count": 30,
   "id": "31455bec",
   "metadata": {},
   "outputs": [
    {
     "name": "stdout",
     "output_type": "stream",
     "text": [
      "User Id\n",
      "1        5000\n",
      "2      567000\n",
      "3       40000\n",
      "4        1750\n",
      "5       74100\n",
      "        ...  \n",
      "994      1400\n",
      "995     34500\n",
      "996     96400\n",
      "998      7400\n",
      "999      9000\n",
      "Name: Amount, Length: 915, dtype: int64\n",
      "104669.64918032786\n"
     ]
    }
   ],
   "source": [
    "\n",
    "monthly_user_deposit = deposit_df.groupby('User Id')['Amount'].sum()\n",
    "avg_per_user_deposit = monthly_user_deposit.mean()\n",
    "print(monthly_user_deposit)\n",
    "print(avg_per_user_deposit)\n"
   ]
  },
  {
   "cell_type": "code",
   "execution_count": 31,
   "id": "933e2fa2",
   "metadata": {},
   "outputs": [
    {
     "name": "stdout",
     "output_type": "stream",
     "text": [
      "145.91198303287382\n"
     ]
    }
   ],
   "source": [
    "avg_games_per_user = gameplay_df.groupby('User ID')['Games Played'].sum().mean()\n",
    "print(avg_games_per_user)"
   ]
  },
  {
   "cell_type": "markdown",
   "id": "0fc6f8fd",
   "metadata": {},
   "source": [
    "### Part B - Bonus to TOP 50 players\n",
    "\n",
    "We assign a bonus pot of 50,000INR to the first 50 players according to a weighted score of the loyalty points and the number of played games.\n",
    "\n",
    "**Formula:**\n",
    "\n",
    "Player Score = 0.7 (Loyalty Points / Max Loyalty Points) + 0.3 (Games Played/ Max Games Played )\n",
    "\n",
    "Bonus = (Player Score / Sum of all 50 scores )(50000).\n"
   ]
  },
  {
   "cell_type": "code",
   "execution_count": 46,
   "id": "cebaeea0",
   "metadata": {},
   "outputs": [
    {
     "name": "stdout",
     "output_type": "stream",
     "text": [
      "    User ID  Loyalty_Points  Total_Games        Bonus\n",
      "0       765            7710          771  6271.351879\n",
      "1       618            2240          224  1822.027005\n",
      "2       247            2140          214  1740.686514\n",
      "3       663            2050          205  1667.480072\n",
      "4       449            1970          197  1602.407679\n",
      "5       856            1940          194  1578.005531\n",
      "6       754            1850          185  1504.799089\n",
      "7       887            1760          176  1431.592647\n",
      "8       456            1730          173  1407.190499\n",
      "9       502            1690          169  1374.654303\n",
      "10      738            1690          169  1374.654303\n",
      "11       39            1430          143  1163.169026\n",
      "12      365            1350          135  1098.096633\n",
      "13        9            1310          131  1065.560436\n",
      "14      990            1290          129  1049.292338\n",
      "15      989            1260          126  1024.890190\n",
      "16      137            1230          123  1000.488043\n",
      "17      722            1230          123  1000.488043\n",
      "18      582            1190          119   967.951846\n",
      "19      205            1170          117   951.683748\n",
      "20      602            1120          112   911.013503\n",
      "21      181            1080          108   878.477306\n",
      "22      218            1060          106   862.209208\n",
      "23      272            1010          101   821.538962\n",
      "24      237            1000          100   813.404913\n",
      "25      922             970           97   789.002766\n",
      "26      710             950           95   772.734667\n",
      "27       85             920           92   748.332520\n",
      "28      296             850           85   691.394176\n",
      "29      828             850           85   691.394176\n",
      "30      836             780           78   634.455832\n",
      "31      992             780           78   634.455832\n",
      "32      182             760           76   618.187734\n",
      "33      407             760           76   618.187734\n",
      "34      869             750           75   610.053685\n",
      "35      505             730           73   593.785586\n",
      "36      458             710           71   577.517488\n",
      "37      540             710           71   577.517488\n",
      "38       89             700           70   569.383439\n",
      "39       16             680           68   553.115341\n",
      "40      377             680           68   553.115341\n",
      "41      987             680           68   553.115341\n",
      "42      748             670           67   544.981292\n",
      "43      436             610           61   496.176997\n",
      "44      519             610           61   496.176997\n",
      "45      946             610           61   496.176997\n",
      "46      845             590           59   479.908899\n",
      "47      861             550           55   447.372702\n",
      "48      421             540           54   439.238653\n",
      "49      418             530           53   431.104604\n"
     ]
    }
   ],
   "source": [
    "# Use best 50 candidates in earlier ranking DataFrame\n",
    "top_50 = ranking.head(50).copy()\n",
    "\n",
    "# Normalize values\n",
    "top_50['Norm_Loyalty'] = top_50['Loyalty_Points'] / top_50['Loyalty_Points'].max()\n",
    "top_50['Norm_Games'] = top_50['Total_Games'] / top_50['Total_Games'].max()\n",
    "\n",
    "# Weighted score\n",
    "top_50['Score'] = 0.7 * top_50['Norm_Loyalty'] + 0.3 * top_50['Norm_Games']\n",
    "\n",
    "# Distribution of bonus goodies\n",
    "total_score = top_50['Score'].sum()\n",
    "top_50['Bonus'] = (top_50['Score'] / total_score) * 50000\n",
    "\n",
    "# Final output\n",
    "bonus_distribution = top_50[['User ID', 'Loyalty_Points', 'Total_Games', 'Bonus']].sort_values(by='Bonus', ascending=False)\n",
    "print(bonus_distribution)\n"
   ]
  },
  {
   "cell_type": "markdown",
   "id": "291c9dee",
   "metadata": {},
   "source": [
    "## Part C Fairness of the Loyalty Point Formula\n",
    "\n",
    "❌ The Current Formula:\n",
    "Player Score = 0.7 (Loyalty Points / Max Loyalty Points) + 0.3 (Games Played/ Max Games Played )\n",
    "\n",
    "Bonus = (Player Score / Sum of all 50 scores )(50000)."
   ]
  },
  {
   "cell_type": "markdown",
   "id": "372d06a0",
   "metadata": {},
   "source": [
    "# Problems of the existing formula:\n",
    "- **Treatment of all games is equal** - No distinction is made between games on the basis of type, duration or value.\n",
    "\n",
    "- **No reason to get skilled or to win** - players will get points no matter if they win or lose.\n",
    "\n",
    "- **Promotes spamming** - more rewarded by the quantity rather than quality or involvement.\n",
    "\n",
    "- **Does not include deposit or transaction attitude** - a trusting financial contributor father is not rewarded.\n",
    "\n",
    "\n",
    "# Some Recommendations on How to Make It Stronger:\n",
    "\n",
    "Dimension And Recommendation of improvement\n",
    "\n",
    "Game Outcome Reward exceeds loss (e.g. 10point more than 5 if win)/5 and vice versa (Loss).\n",
    "\n",
    "**Stake Size** - Weigh each loyalty point on the basis of amount of bet or value of game.\n",
    "\n",
    "**Consistency** - Put streak bonuses on consecutive active days (e.g., 5 days streak and more = bonus).\n",
    "\n",
    "**Daily Limits** - Reduce the max point limit on a daily basis so as to discourage bots/spam based loyalty point farming.\n",
    "\n",
    "**Deposit Link** - Add deposit action (e.g. 1 loyalty point every 100 ₹ deposited).\n",
    "\n",
    "**Diversity** - Promote play with a variety of games by making use of added variants generators.\n",
    "\n",
    "proposes a possible alternate formula.\n"
   ]
  },
  {
   "cell_type": "markdown",
   "id": "5813d687",
   "metadata": {},
   "source": [
    "\n",
    "***In Example 1:*** Balanced Behavior-Based Points, 11 of 12 weighted points were awarded (or 92 percent of total weighted points were awarded or delivered).\n",
    "\n",
    "Formula Can be: Loyalty Points = (Games Played × 8) + (Games Won × 5) + (Active Days × 3)\n",
    "\n",
    "***In Example 2:*** Stake-Aware Loyalty Points\n",
    "\n",
    "Formula Can be: Loyalty Points = Games Played × log(1 + Total Bet Amount)"
   ]
  },
  {
   "cell_type": "markdown",
   "id": "53ba4c3b",
   "metadata": {},
   "source": [
    "### 🎯 In Conclusion:\n",
    "The present model is **closeretic and easy**. A more subtle formula has the merit:\n",
    "- **Fairness** (rewarding and engagement that is real)\n",
    "- **Retention** (the driver of users playing on)\n",
    "- **Deterrence of abuse** (by deterring shoddy or fake gaming behavior)"
   ]
  },
  {
   "cell_type": "markdown",
   "id": "132c1f31",
   "metadata": {},
   "source": []
  }
 ],
 "metadata": {
  "kernelspec": {
   "display_name": "base",
   "language": "python",
   "name": "python3"
  },
  "language_info": {
   "codemirror_mode": {
    "name": "ipython",
    "version": 3
   },
   "file_extension": ".py",
   "mimetype": "text/x-python",
   "name": "python",
   "nbconvert_exporter": "python",
   "pygments_lexer": "ipython3",
   "version": "3.12.4"
  }
 },
 "nbformat": 4,
 "nbformat_minor": 5
}
